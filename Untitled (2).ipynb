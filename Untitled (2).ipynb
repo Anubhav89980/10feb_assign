{
 "cells": [
  {
   "cell_type": "code",
   "execution_count": 1,
   "id": "625c60c7-cf8a-49f6-a719-0ad2f5318d03",
   "metadata": {},
   "outputs": [],
   "source": [
    "#In most programming languages, including Python, the function used to open a file is typically open(). The open() function is used to open a file and returns a file object, which can be used to read from or write to the file.\n",
    "\n",
    "#The open() function takes two main parameters: the file path and the mode. The mode parameter specifies the purpose for which the file is opened, such as reading, writing, or appending. Here are some of the common modes:\n",
    "\n",
    "#Read mode ('r'):\n",
    "\n",
    "#open('filename.txt', 'r')\n",
    "#This mode is used for reading the contents of the file. The file pointer is placed at the beginning of the file. If the file does not exist, an error is raised.\n",
    "#Write mode ('w'):\n",
    "\n",
    "#open('filename.txt', 'w')\n",
    "#This mode is used for writing data to the file. If the file already exists, it truncates the file to zero length. If the file does not exist, it creates a new file.\n",
    "#Append mode ('a'):\n",
    "\n",
    "#open('filename.txt', 'a')\n",
    "#This mode is used for appending data to the end of the file. If the file does not exist, it creates a new file.\n",
    "#Binary read mode ('rb'), Binary write mode ('wb'), Binary append mode ('ab'):\n",
    "\n",
    "#These modes are similar to their non-binary counterparts ('r', 'w', 'a'), but they are used when working with binary data instead of text. For example, 'rb' is used for reading a binary file.\n",
    "#Read and Write mode ('r+' or 'w+'):\n",
    "\n",
    "#open('filename.txt', 'r+') or open('filename.txt', 'w+')\n",
    "#These modes allow both reading and writing to the file. The file pointer is placed at the beginning of the file.\n",
    "#ppend and Read mode ('a+'):\n",
    "\n",
    "#open('filename.txt', 'a+')\n",
    "#This mode allows both appending and reading. The file pointer is placed at the end of the file."
   ]
  },
  {
   "cell_type": "code",
   "execution_count": 2,
   "id": "f70aed13-baf8-496a-a9e3-739e01eefb37",
   "metadata": {},
   "outputs": [],
   "source": [
    "#the close() function is used to close a file that has been opened using the open() function in programming languages like Python. It is important to close a file after you have finished working with it for several reasons:\n",
    "\n",
    "#Resource Release:\n",
    "\n",
    "#Opening a file consumes system resources. The close() function releases these resources, such as file handles, file buffers, and system-level resources associated with the open file. Failing to close a file may lead to a resource leak, especially if the program opens many files or if the file operations are part of a loop.\n",
    "#Data Integrity:\n",
    "\n",
    "#Closing a file ensures that all the data that was buffered (in memory but not yet written to the file) is properly written to the file before it is closed. If you don't close the file, there's a risk that some data might not be written, leading to incomplete or corrupted files.\n",
    "#Concurrency and Locks:\n",
    "\n",
    "#In some systems, files may be locked while they are open. Closing the file releases this lock, allowing other processes or parts of your program to access or modify the file. Failing to close a file might result in other processes being unable to access it until it's closed.\n",
    "#Good Programming Practice:\n",
    "\n",
    "#Closing files is considered good programming practice. It helps in writing robust and reliable code, especially when dealing with a large codebase or in scenarios where resources are limited. It also makes the code more readable and maintainable."
   ]
  },
  {
   "cell_type": "code",
   "execution_count": 3,
   "id": "1fc58861-7d33-4545-a00a-9bc7f6605ecd",
   "metadata": {},
   "outputs": [
    {
     "name": "stdout",
     "output_type": "stream",
     "text": [
      "File created and written successfully.\n",
      "Content of the file: I want to become a Data Scientist\n"
     ]
    }
   ],
   "source": [
    "\n",
    "file_path = 'data_scientist.txt'\n",
    "\n",
    "try:\n",
    "    \n",
    "    with open(file_path, 'w') as file:\n",
    "        file.write('I want to become a Data Scientist')\n",
    "\n",
    "    print('File created and written successfully.')\n",
    "\n",
    "    \n",
    "    with open(file_path, 'r') as file:\n",
    "        content = file.read()\n",
    "        print('Content of the file:', content)\n",
    "\n",
    "except Exception as e:\n",
    "    print('An error occurred:', str(e))\n"
   ]
  },
  {
   "cell_type": "code",
   "execution_count": 5,
   "id": "9a1c0ac8-7de4-4e19-88a6-82da37423f34",
   "metadata": {},
   "outputs": [
    {
     "name": "stdout",
     "output_type": "stream",
     "text": [
      "Content using read(): Line 1\n",
      "Line 2\n",
      "Line 3\n",
      "Content using readline(): Line 1\n",
      " Line 2\n",
      "\n",
      "Content using readlines(): ['Line 1\\n', 'Line 2\\n', 'Line 3']\n"
     ]
    }
   ],
   "source": [
    "file_path = 'example.txt'\n",
    "\n",
    "\n",
    "with open(file_path, 'w') as file:\n",
    "    file.write('Line 1\\nLine 2\\nLine 3')\n",
    "\n",
    "\n",
    "with open(file_path, 'r') as file:\n",
    "    content = file.read()\n",
    "    print('Content using read():', content)\n",
    "    \n",
    "\n",
    "with open(file_path, 'r') as file:\n",
    "    line1 = file.readline()\n",
    "    line2 = file.readline()\n",
    "    print('Content using readline():', line1, line2)\n",
    "    \n",
    "\n",
    "with open(file_path, 'r') as file:\n",
    "    lines = file.readlines()\n",
    "    print('Content using readlines():', lines)"
   ]
  },
  {
   "cell_type": "code",
   "execution_count": null,
   "id": "f2489d31-3446-4ef1-b8e8-79b9b0b990cd",
   "metadata": {},
   "outputs": [],
   "source": [
    "#write\n",
    "file_path = 'example_write.txt'\n",
    "\n",
    "# Writing content to the file using write()\n",
    "with open(file_path, 'w') as file:\n",
    "    file.write('This is line 1\\n')\n",
    "    file.write('This is line 2\\n')\n"
   ]
  }
 ],
 "metadata": {
  "kernelspec": {
   "display_name": "Python 3 (ipykernel)",
   "language": "python",
   "name": "python3"
  },
  "language_info": {
   "codemirror_mode": {
    "name": "ipython",
    "version": 3
   },
   "file_extension": ".py",
   "mimetype": "text/x-python",
   "name": "python",
   "nbconvert_exporter": "python",
   "pygments_lexer": "ipython3",
   "version": "3.10.8"
  }
 },
 "nbformat": 4,
 "nbformat_minor": 5
}
